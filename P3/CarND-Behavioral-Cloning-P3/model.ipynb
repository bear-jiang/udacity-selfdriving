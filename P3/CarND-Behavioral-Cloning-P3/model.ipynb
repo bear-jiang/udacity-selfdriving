{
 "cells": [
  {
   "cell_type": "code",
   "execution_count": 1,
   "metadata": {
    "collapsed": true
   },
   "outputs": [],
   "source": [
    "import numpy as np\n",
    "import pandas as pd\n",
    "import matplotlib.image as mpimg\n",
    "from sklearn.model_selection import train_test_split\n",
    "from sklearn.utils import shuffle"
   ]
  },
  {
   "cell_type": "code",
   "execution_count": 2,
   "metadata": {},
   "outputs": [
    {
     "name": "stderr",
     "output_type": "stream",
     "text": [
      "Using TensorFlow backend.\n"
     ]
    }
   ],
   "source": [
    "from keras.models import Sequential\n",
    "from keras.layers.core import Dense, Activation, Flatten, Dropout\n",
    "from keras.layers.convolutional import Convolution2D\n",
    "from keras.layers.pooling import MaxPooling2D\n",
    "from keras.layers import Cropping2D\n",
    "from keras.layers import Lambda\n",
    "from keras.layers import Dropout\n",
    "from keras.layers import Reshape"
   ]
  },
  {
   "cell_type": "markdown",
   "metadata": {},
   "source": [
    "## Use generator to save memory"
   ]
  },
  {
   "cell_type": "code",
   "execution_count": 16,
   "metadata": {
    "collapsed": true
   },
   "outputs": [],
   "source": [
    "def data_genarator(data, batch_size):\n",
    "    batch_size = batch_size//2\n",
    "    data_length = len(data)\n",
    "    while True:\n",
    "        data = shuffle(data)\n",
    "        for offset in range(0,data_length,batch_size):\n",
    "            data_batch = data[offset:offset+batch_size,:]\n",
    "            images = []\n",
    "            angles = []\n",
    "            for line in data_batch:\n",
    "#                 image_name = 'data/' + line[0]\n",
    "                image_name  ='/input/IMG/' + line[0].split('/')[-1]\n",
    "                image = mpimg.imread(image_name)\n",
    "                images.append(image)\n",
    "                images.append(image[:,::-1,:])\n",
    "                \n",
    "                angles.append(1.2*line[-1])\n",
    "                angles.append(-1.2*line[-1])\n",
    "                \n",
    "            yield shuffle(np.array(images), np.array(angles))\n",
    "    \n",
    "    "
   ]
  },
  {
   "cell_type": "markdown",
   "metadata": {},
   "source": [
    "## Split dataset"
   ]
  },
  {
   "cell_type": "code",
   "execution_count": 17,
   "metadata": {
    "collapsed": true
   },
   "outputs": [],
   "source": [
    "# csv_data = pd.read_csv('data/driving_log.csv')\n",
    "csv_data = pd.read_csv('/input/driving_log.csv')\n",
    "train_data, valid_data = train_test_split(csv_data.values[:,(0,3)], test_size=0.2)"
   ]
  },
  {
   "cell_type": "code",
   "execution_count": 18,
   "metadata": {
    "collapsed": true
   },
   "outputs": [],
   "source": [
    "train_generator = data_genarator(train_data, batch_size=64)\n",
    "validation_generator = data_genarator(valid_data, batch_size=64)"
   ]
  },
  {
   "cell_type": "markdown",
   "metadata": {},
   "source": [
    "## Build model"
   ]
  },
  {
   "cell_type": "code",
   "execution_count": 34,
   "metadata": {
    "collapsed": true,
    "scrolled": true
   },
   "outputs": [],
   "source": [
    "model = Sequential()\n",
    "model.add(Lambda(lambda x: x[:,:,:,0]*0.299+x[:,:,:,1]*0.587+x[:,:,:,2]*0.114, input_shape=(160,320,3)))\n",
    "model.add(Reshape((160, 320, 1)))\n",
    "model.add(Lambda(lambda x: (x-128)/128, input_shape=(160,320,1)))\n",
    "# model.add(Cropping2D(cropping=((50,20),(0,0))))\n",
    "model.add(Convolution2D(20, 5, 5, subsample=(2,2), activation='relu'))\n",
    "model.add(Convolution2D(40, 5, 5, subsample=(2,2), activation='relu'))\n",
    "model.add(Convolution2D(60, 5, 5, subsample=(2,2), activation='relu'))\n",
    "model.add(Convolution2D(120, 3, 3, activation='relu'))\n",
    "model.add(Convolution2D(120, 3, 3, activation='relu'))\n",
    "# model.add(Convolution2D(200, 3, 3, activation='relu'))\n",
    "# model.add(Convolution2D(200, 3, 3, activation='relu'))\n",
    "model.add(Flatten())\n",
    "model.add(Dropout(0.5))\n",
    "model.add(Dense(200, activation='relu'))\n",
    "model.add(Dense(60, activation='relu'))\n",
    "model.add(Dense(20, activation='relu'))\n",
    "model.add(Dense(1))\n",
    "model.compile(loss='mse', optimizer='adam')"
   ]
  },
  {
   "cell_type": "code",
   "execution_count": 35,
   "metadata": {
    "scrolled": false
   },
   "outputs": [
    {
     "name": "stdout",
     "output_type": "stream",
     "text": [
      "Epoch 1/5\n",
      "12856/12856 [==============================] - 36s - loss: 0.0158 - val_loss: 0.0157\n",
      "Epoch 2/5\n",
      "12856/12856 [==============================] - 35s - loss: 0.0133 - val_loss: 0.0144\n",
      "Epoch 3/5\n",
      "12856/12856 [==============================] - 35s - loss: 0.0132 - val_loss: 0.0141\n",
      "Epoch 4/5\n",
      "12856/12856 [==============================] - 35s - loss: 0.0127 - val_loss: 0.0139\n",
      "Epoch 5/5\n",
      "12856/12856 [==============================] - 35s - loss: 0.0123 - val_loss: 0.0143\n"
     ]
    },
    {
     "data": {
      "text/plain": [
       "<keras.callbacks.History at 0x7f93a7e31dd8>"
      ]
     },
     "execution_count": 35,
     "metadata": {},
     "output_type": "execute_result"
    }
   ],
   "source": [
    "model.fit_generator(train_generator, samples_per_epoch= 2*len(train_data), validation_data=validation_generator, nb_val_samples=2*len(valid_data), nb_epoch=5)"
   ]
  },
  {
   "cell_type": "code",
   "execution_count": 36,
   "metadata": {
    "collapsed": true
   },
   "outputs": [],
   "source": [
    "model.save('model.h5')"
   ]
  },
  {
   "cell_type": "code",
   "execution_count": null,
   "metadata": {
    "collapsed": true
   },
   "outputs": [],
   "source": []
  }
 ],
 "metadata": {
  "kernelspec": {
   "display_name": "Python 3",
   "language": "python",
   "name": "python3"
  },
  "language_info": {
   "codemirror_mode": {
    "name": "ipython",
    "version": 3
   },
   "file_extension": ".py",
   "mimetype": "text/x-python",
   "name": "python",
   "nbconvert_exporter": "python",
   "pygments_lexer": "ipython3",
   "version": "3.5.2"
  },
  "widgets": {
   "state": {},
   "version": "1.1.2"
  }
 },
 "nbformat": 4,
 "nbformat_minor": 2
}
